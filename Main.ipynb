{
 "cells": [
  {
   "cell_type": "code",
   "execution_count": null,
   "metadata": {},
   "outputs": [],
   "source": [
    "gdown 1tkTUpbdkPqQ1JgHcVlsT0ikjcftF4P6x\n",
    "unzip refcocog.tar.zip\n",
    "rm refcocog.tar.zip\n",
    "tar -xvf refcocog.tar\n",
    "rm refcocog.tar"
   ]
  }
 ],
 "metadata": {
  "language_info": {
   "name": "python"
  }
 },
 "nbformat": 4,
 "nbformat_minor": 2
}
